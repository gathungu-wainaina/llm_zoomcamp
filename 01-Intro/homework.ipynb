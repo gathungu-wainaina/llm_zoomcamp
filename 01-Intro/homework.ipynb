{
 "cells": [
  {
   "cell_type": "markdown",
   "id": "87d9a287-4ff4-41de-9c08-5979dd5512dd",
   "metadata": {},
   "source": [
    "## Q1. Running Elastic\n",
    "Run Elastic Search 8.17.6, and get the cluster information. What's the version.build_hash value?"
   ]
  },
  {
   "cell_type": "code",
   "execution_count": 1,
   "id": "c261b8d3-6d60-4e77-b385-a3c25a7f083f",
   "metadata": {},
   "outputs": [],
   "source": [
    "response = !curl 'localhost:9200'"
   ]
  },
  {
   "cell_type": "code",
   "execution_count": 2,
   "id": "60ca4f74-c0e7-4e06-9abc-77a2710031ad",
   "metadata": {},
   "outputs": [],
   "source": [
    "import subprocess\n",
    "import json"
   ]
  },
  {
   "cell_type": "code",
   "execution_count": 3,
   "id": "4eb9e6fd-abc8-4efe-a139-40fe8eb05be6",
   "metadata": {},
   "outputs": [
    {
     "name": "stdout",
     "output_type": "stream",
     "text": [
      "Build Hash: dbcbbbd0bc4924cfeb28929dc05d82d662c527b7\n"
     ]
    }
   ],
   "source": [
    "result = subprocess.run(\n",
    "    [\"curl\", \"-s\", \"http://localhost:9200\"],\n",
    "    stdout=subprocess.PIPE,\n",
    "    text=True\n",
    ")\n",
    "\n",
    "data = json.loads(result.stdout)\n",
    "\n",
    "build_hash = data[\"version\"][\"build_hash\"]\n",
    "\n",
    "print(\"Build Hash:\", build_hash)"
   ]
  },
  {
   "cell_type": "code",
   "execution_count": 4,
   "id": "308532d2-92ce-421a-8673-13173606c1b8",
   "metadata": {},
   "outputs": [],
   "source": [
    "import requests \n",
    "\n",
    "docs_url = 'https://github.com/DataTalksClub/llm-zoomcamp/blob/main/01-intro/documents.json?raw=1'\n",
    "docs_response = requests.get(docs_url)\n",
    "documents_raw = docs_response.json()\n",
    "\n",
    "documents = []\n",
    "\n",
    "for course in documents_raw:\n",
    "    course_name = course['course']\n",
    "\n",
    "    for doc in course['documents']:\n",
    "        doc['course'] = course_name\n",
    "        documents.append(doc)"
   ]
  },
  {
   "cell_type": "markdown",
   "id": "462c9f77-9e78-45dd-8645-6696fe0eaf94",
   "metadata": {},
   "source": [
    "## Q2. Indexing the data"
   ]
  },
  {
   "cell_type": "code",
   "execution_count": 5,
   "id": "1513f0a4-c5d3-41d4-9549-4df509609f13",
   "metadata": {},
   "outputs": [
    {
     "name": "stdout",
     "output_type": "stream",
     "text": [
      "Requirement already satisfied: elasticsearch in /usr/local/python/3.12.1/lib/python3.12/site-packages (8.11.1)\n",
      "Requirement already satisfied: elastic-transport<9,>=8 in /usr/local/python/3.12.1/lib/python3.12/site-packages (from elasticsearch) (8.17.1)\n",
      "Requirement already satisfied: urllib3<3,>=1.26.2 in /home/codespace/.local/lib/python3.12/site-packages (from elastic-transport<9,>=8->elasticsearch) (2.3.0)\n",
      "Requirement already satisfied: certifi in /home/codespace/.local/lib/python3.12/site-packages (from elastic-transport<9,>=8->elasticsearch) (2025.1.31)\n",
      "\n",
      "\u001b[1m[\u001b[0m\u001b[34;49mnotice\u001b[0m\u001b[1;39;49m]\u001b[0m\u001b[39;49m A new release of pip is available: \u001b[0m\u001b[31;49m25.0.1\u001b[0m\u001b[39;49m -> \u001b[0m\u001b[32;49m25.1.1\u001b[0m\n",
      "\u001b[1m[\u001b[0m\u001b[34;49mnotice\u001b[0m\u001b[1;39;49m]\u001b[0m\u001b[39;49m To update, run: \u001b[0m\u001b[32;49mpython3 -m pip install --upgrade pip\u001b[0m\n"
     ]
    }
   ],
   "source": [
    "!pip install elasticsearch"
   ]
  },
  {
   "cell_type": "code",
   "execution_count": 6,
   "id": "4da99934-2823-44f5-9a18-9fb65e287d2a",
   "metadata": {},
   "outputs": [],
   "source": [
    "from elasticsearch import Elasticsearch"
   ]
  },
  {
   "cell_type": "code",
   "execution_count": 7,
   "id": "5a8bc455-e39a-4d07-801d-27dbea58688c",
   "metadata": {},
   "outputs": [],
   "source": [
    "es_client = Elasticsearch(hosts='http://localhost:9200',headers={\"Accept\": \"application/vnd.elasticsearch+json; compatible-with=8\",\n",
    "             \"Content-Type\": \"application/vnd.elasticsearch+json; compatible-with=8\"})"
   ]
  },
  {
   "cell_type": "code",
   "execution_count": 37,
   "id": "3d0ef183-39de-44d6-9605-734a31883cd0",
   "metadata": {},
   "outputs": [
    {
     "data": {
      "text/plain": [
       "ObjectApiResponse({'acknowledged': True, 'shards_acknowledged': True, 'index': 'questions'})"
      ]
     },
     "execution_count": 37,
     "metadata": {},
     "output_type": "execute_result"
    }
   ],
   "source": [
    "index_settings = {\n",
    "    \"settings\": {\n",
    "        \"number_of_shards\": 1,\n",
    "        \"number_of_replicas\": 0\n",
    "    },\n",
    "    \"mappings\": {\n",
    "        \"properties\": {\n",
    "            \"text\": {\"type\": \"text\"},\n",
    "            #\"section\": {\"type\": \"text\"},\n",
    "            \"question\": {\"type\": \"text\"},\n",
    "            \"course\": {\"type\": \"keyword\"} \n",
    "        }\n",
    "    }\n",
    "}\n",
    "\n",
    "index_name = \"questions\"\n",
    "es_client.indices.create(index=index_name,body=index_settings)"
   ]
  },
  {
   "cell_type": "code",
   "execution_count": 38,
   "id": "045306ba-71ab-43bd-a5c0-566ba2c079d3",
   "metadata": {},
   "outputs": [
    {
     "name": "stderr",
     "output_type": "stream",
     "text": [
      "100%|███████████████████████████████████████████████████████████████████████████████████| 948/948 [00:03<00:00, 303.70it/s]\n"
     ]
    }
   ],
   "source": [
    "from tqdm.auto import tqdm\n",
    "for doc in tqdm(documents): \n",
    "    #We add data using index\n",
    "    es_client.index(index=index_name,document=doc)"
   ]
  },
  {
   "cell_type": "markdown",
   "id": "b72f179b-72f6-4091-b529-e95b5452d7e3",
   "metadata": {},
   "source": [
    "## Q3. Searching\n",
    "We will execute a query \"How do execute a command on a Kubernetes pod?\".\n",
    "\n",
    "Use only question and text fields and give question a boost of 4, and use \"type\": \"best_fields\"."
   ]
  },
  {
   "cell_type": "code",
   "execution_count": 39,
   "id": "321386a2-724f-4499-842b-af87ca57e151",
   "metadata": {},
   "outputs": [],
   "source": [
    "query= \"How do execute a command on a Kubernetes pod?\""
   ]
  },
  {
   "cell_type": "code",
   "execution_count": 49,
   "id": "aa30c2d4-2a50-4dd4-91eb-aae7876d3aa9",
   "metadata": {},
   "outputs": [],
   "source": [
    "search_query = {\n",
    "        \"size\": 10,\n",
    "        \"query\": {\n",
    "            \"bool\": {\n",
    "                \"must\": {\n",
    "                    \"multi_match\": {\n",
    "                        \"query\": query,\n",
    "                        \"fields\": [\"question^4\", \"text\"],\n",
    "                        \"type\": \"best_fields\"\n",
    "                    }\n",
    "                },\n",
    "                \"filter\": {\n",
    "                    \"term\": {\n",
    "                        \"course\": \"data-engineering-zoomcamp\"\n",
    "                    }\n",
    "                }\n",
    "            }\n",
    "        }\n",
    "    }"
   ]
  },
  {
   "cell_type": "code",
   "execution_count": 50,
   "id": "c3aaff4c-24e6-4a0f-b746-0cd237587af3",
   "metadata": {},
   "outputs": [],
   "source": [
    "response=es_client.search(index=index_name,body=search_query)"
   ]
  },
  {
   "cell_type": "code",
   "execution_count": 51,
   "id": "7475a0eb-1072-4d29-8243-26e6d61fbbfb",
   "metadata": {},
   "outputs": [
    {
     "data": {
      "text/plain": [
       "{'total': {'value': 334, 'relation': 'eq'},\n",
       " 'max_score': 31.973522,\n",
       " 'hits': [{'_index': 'questions',\n",
       "   '_id': 'GM1XbpcBCHcM2Mh4e3uS',\n",
       "   '_score': 31.973522,\n",
       "   '_source': {'text': 'Install the astronomer-cosmos package as a dependency. (see Terraform example).\\nMake a new folder, dbt/, inside the dags/ folder of your Composer GCP bucket and copy paste your dbt-core project there. (see example)\\nEnsure your profiles.yml is configured to authenticate with a service account key. (see BigQuery example)\\nCreate a new DAG using the DbtTaskGroup class and a ProfileConfig specifying a profiles_yml_filepath that points to the location of your JSON key file. (see example)\\nYour dbt lineage graph should now appear as tasks inside a task group like this:',\n",
       "    'section': 'Course Management Form for Homeworks',\n",
       "    'question': 'How to run a dbt-core project as an Airflow Task Group on Google Cloud Composer using a service account JSON key',\n",
       "    'course': 'data-engineering-zoomcamp'}},\n",
       "  {'_index': 'questions',\n",
       "   '_id': 'g81XbpcBCHcM2Mh4dnnE',\n",
       "   '_score': 31.098085,\n",
       "   '_source': {'text': \"There are 3 Zoom Camps in a year, as of 2024. However, they are for separate courses:\\nData-Engineering (Jan - Apr)\\nMLOps (May - Aug)\\nMachine Learning (Sep - Jan)\\nThere's only one Data-Engineering Zoomcamp “live” cohort per year, for the certification. Same as for the other Zoomcamps.\\nThey follow pretty much the same schedule for each cohort per zoomcamp. For Data-Engineering it is (generally) from Jan-Apr of the year. If you’re not interested in the Certificate, you can take any zoom camps at any time, at your own pace, out of sync with any “live” cohort.\",\n",
       "    'section': 'General course-related questions',\n",
       "    'question': 'Course - how many Zoomcamps in a year?',\n",
       "    'course': 'data-engineering-zoomcamp'}},\n",
       "  {'_index': 'questions',\n",
       "   '_id': '2c1XbpcBCHcM2Mh4enrc',\n",
       "   '_score': 30.154186,\n",
       "   '_source': {'text': 'Error:\\nspark.createDataFrame(df_pandas).schema\\nTypeError: field Affiliated_base_number: Can not merge type <class \\'pyspark.sql.types.StringType\\'> and <class \\'pyspark.sql.types.DoubleType\\'>\\nSolution:\\nAffiliated_base_number is a mix of letters and numbers (you can check this with a preview of the table), so it cannot be set to DoubleType (only for double-precision numbers). The suitable type would be StringType. Spark  inferSchema is more accurate than Pandas infer type method in this case. You can set it to  true  while reading the csv, so you don’t have to take out any data from your dataset. Something like this can help:\\ndf = spark.read \\\\\\n.options(\\nheader = \"true\", \\\\\\ninferSchema = \"true\", \\\\\\n) \\\\\\n.csv(\\'path/to/your/csv/file/\\')\\nSolution B:\\nIt\\'s because some rows in the affiliated_base_number are null and therefore it is assigned the datatype String and this cannot be converted to type Double. So if you really want to convert this pandas df to a pyspark df only take the  rows from the pandas df that are not null in the \\'Affiliated_base_number\\' column. Then you will be able to apply the pyspark function createDataFrame.\\n# Only take rows that have no null values\\npandas_df= pandas_df[pandas_df.notnull().all(1)]',\n",
       "    'section': 'Module 5: pyspark',\n",
       "    'question': 'TypeError when using spark.createDataFrame function on a pandas df',\n",
       "    'course': 'data-engineering-zoomcamp'}},\n",
       "  {'_index': 'questions',\n",
       "   '_id': '4s1XbpcBCHcM2Mh4enr2',\n",
       "   '_score': 29.561802,\n",
       "   '_source': {'text': 'Fix is to set the flag like the error states. Get your project ID from your dashboard and set it like so:\\ngcloud dataproc jobs submit pyspark \\\\\\n--cluster=my_cluster \\\\\\n--region=us-central1 \\\\\\n--project=my-dtc-project-1010101 \\\\\\ngs://my-dtc-bucket-id/code/06_spark_sql.py\\n-- \\\\\\n…',\n",
       "    'section': 'Module 5: pyspark',\n",
       "    'question': 'Dataproc - ERROR: (gcloud.dataproc.jobs.submit.pyspark) The required property [project] is not currently set. It can be set on a per-command basis by re-running your command with the [--project] flag.',\n",
       "    'course': 'data-engineering-zoomcamp'}},\n",
       "  {'_index': 'questions',\n",
       "   '_id': 'gc1XbpcBCHcM2Mh4eXqv',\n",
       "   '_score': 28.267738,\n",
       "   '_source': {'text': \"Make sure you use:\\ndbt run --var ‘is_test_run: false’ or\\ndbt build --var ‘is_test_run: false’\\n(watch out for formatted text from this document: re-type the single quotes). If that does not work, use --vars '{'is_test_run': 'false'}' with each phrase separately quoted.\",\n",
       "    'section': 'Module 4: analytics engineering with dbt',\n",
       "    'question': 'Build - Why do my Fact_trips only contain a few days of data?',\n",
       "    'course': 'data-engineering-zoomcamp'}},\n",
       "  {'_index': 'questions',\n",
       "   '_id': 'lM1XbpcBCHcM2Mh4eXrr',\n",
       "   '_score': 28.066704,\n",
       "   '_source': {'text': \"Remember that you should modify accordingly your .sql models, to read from existing table names in BigQuery/postgres db\\nExample: select * from {{ source('staging',<your table name in the database>') }}\",\n",
       "    'section': 'Module 4: analytics engineering with dbt',\n",
       "    'question': \"Compilation Error : Model 'model.XXX' (models/<model_path>/XXX.sql) depends on a source named '<a table name>' which was not found\",\n",
       "    'course': 'data-engineering-zoomcamp'}},\n",
       "  {'_index': 'questions',\n",
       "   '_id': 'kM1XbpcBCHcM2Mh4dnnq',\n",
       "   '_score': 26.856247,\n",
       "   '_source': {'text': 'When you set up your account you are automatically assigned a random name such as “Lucid Elbakyan” for example. If you want to see what your Display name is.\\nGo to the Homework submission link →  https://courses.datatalks.club/de-zoomcamp-2024/homework/hw2 - Log in > Click on ‘Data Engineering Zoom Camp 2024’ > click on ‘Edit Course Profile’ - your display name is here, you can also change it should you wish:',\n",
       "    'section': 'General course-related questions',\n",
       "    'question': 'Leaderboard - I am not on the leaderboard / how do I know which one I am on the leaderboard?',\n",
       "    'course': 'data-engineering-zoomcamp'}},\n",
       "  {'_index': 'questions',\n",
       "   '_id': 'KM1XbpcBCHcM2Mh4e3vB',\n",
       "   '_score': 26.785927,\n",
       "   '_source': {'text': 'In case the script gets stuck on\\n%3|1709652240.100|FAIL|rdkafka#producer-2| [thrd:localhost:9092/bootstrap]: localhost:9092/bootstrap: Connect to ipv4#127.0.0.1:9092 failed: Connection refused (after 0ms in state CONNECT)gre\\nafter trying to load the trip data, check the logs of the message_queue container in docker. If it keeps restarting with Could not initialize seastar: std::runtime_error (insufficient physical memory: needed 4294967296 available 4067422208)  as the last message, then go to the docker-compose file in the docker folder of the project and change the ‘memory’ command for the message_queue service for some lower value.\\nSolution: lower the memory allocation of the service “message_queue” in your docker-compose file from 4GB. If you have the “insufficient physical memory” error message (try 3GB)\\nIssue: Running psql -f risingwave-sql/table/trip_data.sql after starting services with ‘default’ values using docker-compose up gives the error  “psql:risingwave-sql/table/trip_data.sql:61: ERROR:  syntax error at or near \".\" LINE 60:       properties.bootstrap.server=\\'message_queue:29092\\'”\\nSolution: Make sure you have run source commands.sh in each terminal window',\n",
       "    'section': 'Workshop 2 - RisingWave',\n",
       "    'question': 'Running stream-kafka script gets stuck on a loop with Connection Refused',\n",
       "    'course': 'data-engineering-zoomcamp'}},\n",
       "  {'_index': 'questions',\n",
       "   '_id': '2M1XbpcBCHcM2Mh4enrZ',\n",
       "   '_score': 26.332405,\n",
       "   '_source': {'text': 'To do this\\npip install gcsfs,\\nThereafter copy the uri path to the file and use \\ndf = pandas.read_csc(gs://path)',\n",
       "    'section': 'Module 5: pyspark',\n",
       "    'question': 'How do you read data stored in gcs on pandas with your local computer?',\n",
       "    'course': 'data-engineering-zoomcamp'}},\n",
       "  {'_index': 'questions',\n",
       "   '_id': 'ls1XbpcBCHcM2Mh4dnn7',\n",
       "   '_score': 26.178825,\n",
       "   '_source': {'text': '1. To open Run command window, you can either:\\n(1-1) Use the shortcut keys: \\'Windows + R\\', or\\n(1-2) Right Click \"Start\", and click \"Run\" to open.\\n2. Registry Values Located in Registry Editor, to open it: Type \\'regedit\\' in the Run command window, and then press Enter.\\' 3. Now you can change the registry values \"Autorun\" in \"HKEY_CURRENT_USER\\\\Software\\\\Microsoft\\\\Command Processor\" from \"if exists\" to a blank.\\nAlternatively, You can simplify the solution by deleting the fingerprint saved within the known_hosts file. In Windows, this file is placed at  C:\\\\Users\\\\<your_user_name>\\\\.ssh\\\\known_host',\n",
       "    'section': 'General course-related questions',\n",
       "    'question': 'This happens when attempting to connect to a GCP VM using VSCode on a Windows machine. Changing registry value in registry editor',\n",
       "    'course': 'data-engineering-zoomcamp'}}]}"
      ]
     },
     "execution_count": 51,
     "metadata": {},
     "output_type": "execute_result"
    }
   ],
   "source": [
    "response['hits']"
   ]
  },
  {
   "cell_type": "markdown",
   "id": "28b43d52-aa1b-4297-9322-0bebce93d679",
   "metadata": {},
   "source": [
    "## Q4. Filtering\n",
    "Now ask a different question: \"How do copy a file to a Docker container?\"."
   ]
  },
  {
   "cell_type": "code",
   "execution_count": 53,
   "id": "cc10f7d4-c1b1-477f-a572-e884cee89a0e",
   "metadata": {},
   "outputs": [],
   "source": [
    "query=\"How do copy a file to a Docker container?\""
   ]
  },
  {
   "cell_type": "code",
   "execution_count": 78,
   "id": "3fbc4e05-fc08-471a-a501-bc9125aef7eb",
   "metadata": {},
   "outputs": [],
   "source": [
    "def elastic_search(query):   \n",
    "    search_query = {\n",
    "            \"size\": 5,\n",
    "            \"query\": {\n",
    "                \"bool\": {\n",
    "                    \"must\": {\n",
    "                        \"multi_match\": {\n",
    "                            \"query\": query,\n",
    "                            \"fields\": [\"question^4\", \"text\"],\n",
    "                            \"type\": \"best_fields\"\n",
    "                        }\n",
    "                    },\n",
    "                    \"filter\": {\n",
    "                        \"term\": {\n",
    "                            \"course\": \"machine-learning-zoomcamp\"\n",
    "                        }\n",
    "                    }\n",
    "                }\n",
    "            }\n",
    "        }\n",
    "    response=es_client.search(index=index_name,body=search_query)\n",
    "    result_docs = []\n",
    "    for hit in response['hits']['hits']:\n",
    "        result_docs.append(hit['_source'])\n",
    "    return result_docs\n"
   ]
  },
  {
   "cell_type": "markdown",
   "id": "414d6870-1daf-4c73-8c72-115883c699e5",
   "metadata": {},
   "source": [
    "## Q5. Building a prompt"
   ]
  },
  {
   "cell_type": "code",
   "execution_count": 80,
   "id": "3676332c-130a-4b15-8362-6ca31c231952",
   "metadata": {},
   "outputs": [],
   "source": [
    "def build_prompt(query, search_results):\n",
    "    context_template =  \"\"\"\n",
    "    You're a course teaching assistant. Answer the QUESTION based on the CONTEXT from the FAQ database.\n",
    "    Use only the facts from the CONTEXT when answering the QUESTION.\n",
    "    \n",
    "    QUESTION: {question}\n",
    "    \n",
    "    CONTEXT:\n",
    "    {context}\n",
    "    \"\"\".strip()\n",
    "    \n",
    "    context = \"\"\n",
    "    \n",
    "    for doc in search_results:\n",
    "        context= context+ f\"question: {doc['question']}\\nanswer: {doc['text']}\\n\\n\"\n",
    "    prompt = context_template.format(question=query,context=context).strip()\n",
    "    return prompt\n",
    "\n"
   ]
  },
  {
   "cell_type": "code",
   "execution_count": 82,
   "id": "99bb9d71-ec7e-4736-b5a1-aa1869bdfdfe",
   "metadata": {},
   "outputs": [],
   "source": [
    "query = \"How do copy a file to a Docker container?\"\n",
    "result_docs = elastic_search(query)\n",
    "prompt = build_prompt(query,result_docs)"
   ]
  },
  {
   "cell_type": "code",
   "execution_count": 86,
   "id": "da6cb3c2-d258-4b97-aa32-2b4d4b8c84b8",
   "metadata": {},
   "outputs": [
    {
     "data": {
      "text/plain": [
       "2235"
      ]
     },
     "execution_count": 86,
     "metadata": {},
     "output_type": "execute_result"
    }
   ],
   "source": [
    "len(prompt.strip())"
   ]
  },
  {
   "cell_type": "code",
   "execution_count": 87,
   "id": "0d25d8e5-4a77-4373-90f9-80061133375a",
   "metadata": {},
   "outputs": [
    {
     "name": "stdout",
     "output_type": "stream",
     "text": [
      "Collecting tiktoken\n",
      "  Downloading tiktoken-0.9.0-cp312-cp312-manylinux_2_17_x86_64.manylinux2014_x86_64.whl.metadata (6.7 kB)\n",
      "Collecting regex>=2022.1.18 (from tiktoken)\n",
      "  Downloading regex-2024.11.6-cp312-cp312-manylinux_2_17_x86_64.manylinux2014_x86_64.whl.metadata (40 kB)\n",
      "Requirement already satisfied: requests>=2.26.0 in /home/codespace/.local/lib/python3.12/site-packages (from tiktoken) (2.32.3)\n",
      "Requirement already satisfied: charset-normalizer<4,>=2 in /home/codespace/.local/lib/python3.12/site-packages (from requests>=2.26.0->tiktoken) (3.4.1)\n",
      "Requirement already satisfied: idna<4,>=2.5 in /home/codespace/.local/lib/python3.12/site-packages (from requests>=2.26.0->tiktoken) (3.10)\n",
      "Requirement already satisfied: urllib3<3,>=1.21.1 in /home/codespace/.local/lib/python3.12/site-packages (from requests>=2.26.0->tiktoken) (2.3.0)\n",
      "Requirement already satisfied: certifi>=2017.4.17 in /home/codespace/.local/lib/python3.12/site-packages (from requests>=2.26.0->tiktoken) (2025.1.31)\n",
      "Downloading tiktoken-0.9.0-cp312-cp312-manylinux_2_17_x86_64.manylinux2014_x86_64.whl (1.2 MB)\n",
      "\u001b[2K   \u001b[38;2;114;156;31m━━━━━━━━━━━━━━━━━━━━━━━━━━━━━━━━━━━━━━━━\u001b[0m \u001b[32m1.2/1.2 MB\u001b[0m \u001b[31m8.0 MB/s\u001b[0m eta \u001b[36m0:00:00\u001b[0m MB/s\u001b[0m eta \u001b[36m0:00:01\u001b[0m\n",
      "\u001b[?25hDownloading regex-2024.11.6-cp312-cp312-manylinux_2_17_x86_64.manylinux2014_x86_64.whl (796 kB)\n",
      "\u001b[2K   \u001b[38;2;114;156;31m━━━━━━━━━━━━━━━━━━━━━━━━━━━━━━━━━━━━━━━━\u001b[0m \u001b[32m796.9/796.9 kB\u001b[0m \u001b[31m19.8 MB/s\u001b[0m eta \u001b[36m0:00:00\u001b[0m\n",
      "\u001b[?25hInstalling collected packages: regex, tiktoken\n",
      "Successfully installed regex-2024.11.6 tiktoken-0.9.0\n",
      "\n",
      "\u001b[1m[\u001b[0m\u001b[34;49mnotice\u001b[0m\u001b[1;39;49m]\u001b[0m\u001b[39;49m A new release of pip is available: \u001b[0m\u001b[31;49m25.0.1\u001b[0m\u001b[39;49m -> \u001b[0m\u001b[32;49m25.1.1\u001b[0m\n",
      "\u001b[1m[\u001b[0m\u001b[34;49mnotice\u001b[0m\u001b[1;39;49m]\u001b[0m\u001b[39;49m To update, run: \u001b[0m\u001b[32;49mpython3 -m pip install --upgrade pip\u001b[0m\n"
     ]
    }
   ],
   "source": [
    "!pip install tiktoken"
   ]
  },
  {
   "cell_type": "code",
   "execution_count": 89,
   "id": "5a685380-5bf3-46f4-844d-269e95a37120",
   "metadata": {},
   "outputs": [],
   "source": [
    "import tiktoken\n",
    "encoding = tiktoken.encoding_for_model(\"gpt-4o\")"
   ]
  },
  {
   "cell_type": "code",
   "execution_count": 93,
   "id": "a86987c0-119c-462e-8f22-642de9ebdb9d",
   "metadata": {},
   "outputs": [
    {
     "data": {
      "text/plain": [
       "494"
      ]
     },
     "execution_count": 93,
     "metadata": {},
     "output_type": "execute_result"
    }
   ],
   "source": [
    "len(encoding.encode(prompt))"
   ]
  },
  {
   "cell_type": "code",
   "execution_count": null,
   "id": "43196b48-f6ce-4309-8b86-f2af6439cead",
   "metadata": {},
   "outputs": [],
   "source": []
  }
 ],
 "metadata": {
  "kernelspec": {
   "display_name": "Python 3 (ipykernel)",
   "language": "python",
   "name": "python3"
  },
  "language_info": {
   "codemirror_mode": {
    "name": "ipython",
    "version": 3
   },
   "file_extension": ".py",
   "mimetype": "text/x-python",
   "name": "python",
   "nbconvert_exporter": "python",
   "pygments_lexer": "ipython3",
   "version": "3.12.1"
  }
 },
 "nbformat": 4,
 "nbformat_minor": 5
}
