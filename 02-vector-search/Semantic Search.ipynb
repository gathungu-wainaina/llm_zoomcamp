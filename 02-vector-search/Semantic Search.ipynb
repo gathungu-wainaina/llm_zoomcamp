{
 "cells": [
  {
   "cell_type": "markdown",
   "id": "ca817db6-59ac-42f6-ad6b-a18494f64db4",
   "metadata": {},
   "source": [
    "## Import Libraries and connect to Qdrant\n",
    "- The QdrantClient Class allows us to establish a connection to the Qdrant service\n",
    "- - The models module provides definitions for various configurations and parameters"
   ]
  },
  {
   "cell_type": "code",
   "execution_count": 2,
   "id": "9e5345e9-d5f3-40e4-825a-0d4dd91b4c88",
   "metadata": {},
   "outputs": [
    {
     "ename": "ModuleNotFoundError",
     "evalue": "No module named 'qdrant_client'",
     "output_type": "error",
     "traceback": [
      "\u001b[1;31m---------------------------------------------------------------------------\u001b[0m",
      "\u001b[1;31mModuleNotFoundError\u001b[0m                       Traceback (most recent call last)",
      "Cell \u001b[1;32mIn[2], line 1\u001b[0m\n\u001b[1;32m----> 1\u001b[0m \u001b[38;5;28;01mfrom\u001b[39;00m \u001b[38;5;21;01mqdrant_client\u001b[39;00m \u001b[38;5;28;01mimport\u001b[39;00m QdrantClient, models\n",
      "\u001b[1;31mModuleNotFoundError\u001b[0m: No module named 'qdrant_client'"
     ]
    }
   ],
   "source": [
    "from qdrant_client import QdrantClient, models"
   ]
  },
  {
   "cell_type": "code",
   "execution_count": null,
   "id": "3d5930b9-0d9e-4679-8965-cf2ea6c07771",
   "metadata": {},
   "outputs": [],
   "source": []
  }
 ],
 "metadata": {
  "kernelspec": {
   "display_name": "Python 3 (ipykernel)",
   "language": "python",
   "name": "python3"
  },
  "language_info": {
   "codemirror_mode": {
    "name": "ipython",
    "version": 3
   },
   "file_extension": ".py",
   "mimetype": "text/x-python",
   "name": "python",
   "nbconvert_exporter": "python",
   "pygments_lexer": "ipython3",
   "version": "3.12.7"
  }
 },
 "nbformat": 4,
 "nbformat_minor": 5
}
