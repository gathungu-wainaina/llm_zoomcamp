{
 "cells": [
  {
   "cell_type": "code",
   "execution_count": 20,
   "id": "1cea217c",
   "metadata": {},
   "outputs": [],
   "source": [
    "import minsearch\n",
    "import os\n",
    "import numpy as np\n",
    "from groq import Groq\n",
    "from dotenv import load_dotenv\n",
    "import json\n",
    "from qdrant_client import QdrantClient,models\n",
    "from fastembed import TextEmbedding"
   ]
  },
  {
   "cell_type": "code",
   "execution_count": 2,
   "id": "081e5f09",
   "metadata": {},
   "outputs": [],
   "source": [
    "client= QdrantClient(\"http://localhost:6333\") # Connecting to local Qdrant Instance"
   ]
  },
  {
   "cell_type": "code",
   "execution_count": 3,
   "id": "c026c8bf",
   "metadata": {},
   "outputs": [],
   "source": [
    "model_handle = \"jinaai/jina-embeddings-v2-small-en\""
   ]
  },
  {
   "cell_type": "code",
   "execution_count": 4,
   "id": "8beeee53",
   "metadata": {},
   "outputs": [],
   "source": [
    "model = TextEmbedding(model_name=model_handle)"
   ]
  },
  {
   "cell_type": "code",
   "execution_count": 5,
   "id": "c9b37580",
   "metadata": {},
   "outputs": [],
   "source": [
    "string = 'I just discovered the course. Can I join now?'"
   ]
  },
  {
   "cell_type": "code",
   "execution_count": 6,
   "id": "4a421843",
   "metadata": {},
   "outputs": [],
   "source": [
    "embedding = np.array((list(model.embed(string))))"
   ]
  },
  {
   "cell_type": "code",
   "execution_count": 7,
   "id": "cf42010f",
   "metadata": {},
   "outputs": [],
   "source": [
    "min_val = np.min(embedding)"
   ]
  },
  {
   "cell_type": "code",
   "execution_count": 8,
   "id": "e0596e95",
   "metadata": {},
   "outputs": [
    {
     "data": {
      "text/plain": [
       "np.float64(-0.11726373885183883)"
      ]
     },
     "execution_count": 8,
     "metadata": {},
     "output_type": "execute_result"
    }
   ],
   "source": [
    "min_val"
   ]
  },
  {
   "cell_type": "code",
   "execution_count": 9,
   "id": "50e2485d",
   "metadata": {},
   "outputs": [],
   "source": [
    "doc = 'Can I still join the course after the start date?'"
   ]
  },
  {
   "cell_type": "code",
   "execution_count": 10,
   "id": "21fe6bf7",
   "metadata": {},
   "outputs": [],
   "source": [
    "embedding_2 = np.array((list(model.embed(doc))))"
   ]
  },
  {
   "cell_type": "code",
   "execution_count": 11,
   "id": "62b737d8",
   "metadata": {},
   "outputs": [],
   "source": [
    "query = \"I just discovered the course. Can I join now?\"\n",
    "doc = \"Can I still join the course after the start date?\"\n",
    "\n",
    "# Get embeddings\n",
    "query_vec = next(model.embed([query]))\n",
    "doc_vec = next(model.embed([doc]))"
   ]
  },
  {
   "cell_type": "code",
   "execution_count": 12,
   "id": "368a72b7",
   "metadata": {},
   "outputs": [
    {
     "name": "stdout",
     "output_type": "stream",
     "text": [
      "0.9008528895674548\n"
     ]
    }
   ],
   "source": [
    "cosine_similarity = np.dot(query_vec, doc_vec)\n",
    "print(cosine_similarity)"
   ]
  },
  {
   "cell_type": "code",
   "execution_count": 13,
   "id": "6e0f126f",
   "metadata": {},
   "outputs": [],
   "source": [
    "documents = [{'text': \"Yes, even if you don't register, you're still eligible to submit the homeworks.\\nBe aware, however, that there will be deadlines for turning in the final projects. So don't leave everything for the last minute.\",\n",
    "  'section': 'General course-related questions',\n",
    "  'question': 'Course - Can I still join the course after the start date?',\n",
    "  'course': 'data-engineering-zoomcamp'},\n",
    " {'text': 'Yes, we will keep all the materials after the course finishes, so you can follow the course at your own pace after it finishes.\\nYou can also continue looking at the homeworks and continue preparing for the next cohort. I guess you can also start working on your final capstone project.',\n",
    "  'section': 'General course-related questions',\n",
    "  'question': 'Course - Can I follow the course after it finishes?',\n",
    "  'course': 'data-engineering-zoomcamp'},\n",
    " {'text': \"The purpose of this document is to capture frequently asked technical questions\\nThe exact day and hour of the course will be 15th Jan 2024 at 17h00. The course will start with the first  “Office Hours'' live.1\\nSubscribe to course public Google Calendar (it works from Desktop only).\\nRegister before the course starts using this link.\\nJoin the course Telegram channel with announcements.\\nDon’t forget to register in DataTalks.Club's Slack and join the channel.\",\n",
    "  'section': 'General course-related questions',\n",
    "  'question': 'Course - When will the course start?',\n",
    "  'course': 'data-engineering-zoomcamp'},\n",
    " {'text': 'You can start by installing and setting up all the dependencies and requirements:\\nGoogle cloud account\\nGoogle Cloud SDK\\nPython 3 (installed with Anaconda)\\nTerraform\\nGit\\nLook over the prerequisites and syllabus to see if you are comfortable with these subjects.',\n",
    "  'section': 'General course-related questions',\n",
    "  'question': 'Course - What can I do before the course starts?',\n",
    "  'course': 'data-engineering-zoomcamp'},\n",
    " {'text': 'Star the repo! Share it with friends if you find it useful ❣️\\nCreate a PR if you see you can improve the text or the structure of the repository.',\n",
    "  'section': 'General course-related questions',\n",
    "  'question': 'How can we contribute to the course?',\n",
    "  'course': 'data-engineering-zoomcamp'}]"
   ]
  },
  {
   "cell_type": "code",
   "execution_count": 14,
   "id": "8bcfd9f6",
   "metadata": {},
   "outputs": [
    {
     "name": "stdout",
     "output_type": "stream",
     "text": [
      "Most similar document index: 1\n"
     ]
    }
   ],
   "source": [
    "similarities = []\n",
    "\n",
    "for doc in documents:\n",
    "    text_embed = next(model.embed(doc[\"text\"]))\n",
    "    query_embed = next(model.embed(doc[\"question\"]))\n",
    "    similarity = text_embed.dot(query_embed)\n",
    "    \n",
    "    similarities.append({\n",
    "        \"question\": doc[\"question\"],\n",
    "        \"answer\": text_embed,\n",
    "        \"similarity\": similarity\n",
    "    })\n",
    "\n",
    "\n",
    "most_similar_index = max(\n",
    "    range(len(similarities)),\n",
    "    key=lambda i: similarities[i][\"similarity\"]\n",
    ")\n",
    "\n",
    "print(\"Most similar document index:\", most_similar_index)\n"
   ]
  },
  {
   "cell_type": "code",
   "execution_count": null,
   "id": "07e523ab",
   "metadata": {},
   "outputs": [],
   "source": []
  },
  {
   "cell_type": "code",
   "execution_count": 15,
   "id": "3f53a1b0",
   "metadata": {},
   "outputs": [
    {
     "name": "stdout",
     "output_type": "stream",
     "text": [
      "Most similar document index: 1\n"
     ]
    }
   ],
   "source": [
    "similarities_2 = []\n",
    "\n",
    "for doc in documents:\n",
    "    full_text = doc[\"question\"] + \" \" + doc[\"text\"]\n",
    "    full_text_embed =  next(model.embed(full_text))\n",
    "    query_embed = next(model.embed(doc[\"question\"]))\n",
    "    similarity = full_text_embed.dot(query_embed)\n",
    "    \n",
    "    similarities_2.append({\n",
    "        \"question\": doc[\"question\"],\n",
    "        \"answer\": text_embed,\n",
    "        \"similarity\": similarity\n",
    "    })\n",
    "\n",
    "\n",
    "most_similar_index = max(\n",
    "    range(len(similarities_2)),\n",
    "    key=lambda i: similarities_2[i][\"similarity\"]\n",
    ")\n",
    "\n",
    "print(\"Most similar document index:\", most_similar_index)\n"
   ]
  },
  {
   "cell_type": "code",
   "execution_count": 16,
   "id": "cfdfcc3b",
   "metadata": {},
   "outputs": [
    {
     "name": "stdout",
     "output_type": "stream",
     "text": [
      "{\n",
      "  \"model\": \"BAAI/bge-small-en\",\n",
      "  \"sources\": {\n",
      "    \"hf\": \"Qdrant/bge-small-en\",\n",
      "    \"url\": \"https://storage.googleapis.com/qdrant-fastembed/BAAI-bge-small-en.tar.gz\",\n",
      "    \"_deprecated_tar_struct\": true\n",
      "  },\n",
      "  \"model_file\": \"model_optimized.onnx\",\n",
      "  \"description\": \"Text embeddings, Unimodal (text), English, 512 input tokens truncation, Prefixes for queries/documents: necessary, 2023 year.\",\n",
      "  \"license\": \"mit\",\n",
      "  \"size_in_GB\": 0.13,\n",
      "  \"additional_files\": [],\n",
      "  \"dim\": 384,\n",
      "  \"tasks\": {}\n",
      "}\n"
     ]
    }
   ],
   "source": [
    "_models = TextEmbedding.list_supported_models()\n",
    "\n",
    "smallest_model = min(_models, key=lambda m: m[\"dim\"])\n",
    "\n",
    "print(json.dumps(smallest_model, indent=2))"
   ]
  },
  {
   "cell_type": "code",
   "execution_count": 17,
   "id": "018e9473",
   "metadata": {},
   "outputs": [],
   "source": [
    "import requests \n",
    "\n",
    "docs_url = 'https://github.com/alexeygrigorev/llm-rag-workshop/raw/main/notebooks/documents.json'\n",
    "docs_response = requests.get(docs_url)\n",
    "documents_raw = docs_response.json()\n",
    "\n",
    "\n",
    "documents = []\n",
    "\n",
    "for course in documents_raw:\n",
    "    course_name = course['course']\n",
    "    if course_name != 'machine-learning-zoomcamp':\n",
    "        continue\n",
    "\n",
    "    for doc in course['documents']:\n",
    "        doc['course'] = course_name\n",
    "        documents.append(doc)"
   ]
  },
  {
   "cell_type": "code",
   "execution_count": 27,
   "id": "67a01f2a",
   "metadata": {},
   "outputs": [],
   "source": [
    "collection_name = \"homework-rag2\"\n",
    "EMBEDDING_DIMENSIONALITY=384\n",
    "model_handle='BAAI/bge-small-en'"
   ]
  },
  {
   "cell_type": "code",
   "execution_count": 28,
   "id": "059383b7",
   "metadata": {},
   "outputs": [
    {
     "data": {
      "text/plain": [
       "True"
      ]
     },
     "execution_count": 28,
     "metadata": {},
     "output_type": "execute_result"
    }
   ],
   "source": [
    "\n",
    "client.create_collection(\n",
    "collection_name=collection_name,\n",
    "vectors_config=models.VectorParams(\n",
    "    size=EMBEDDING_DIMENSIONALITY, #Dimensionality of the vectors\n",
    "    distance=models.Distance.COSINE # Distance metric for similarity search\n",
    ")\n",
    ")"
   ]
  },
  {
   "cell_type": "code",
   "execution_count": 29,
   "id": "8012de1e",
   "metadata": {},
   "outputs": [],
   "source": [
    "points = []\n",
    "id = 0\n",
    "\n",
    "for course in documents:\n",
    "    \n",
    "    point = models.PointStruct(\n",
    "        id=id,\n",
    "    vector=models.Document(text=doc['question'] + ' ' + doc['text'], model=model_handle), \n",
    "        payload={\n",
    "            \"text\": doc['text'],\n",
    "            \"section\": doc['section'],\n",
    "            \"course\": course['course']\n",
    "        } #save all needed metadata fields\n",
    "    )\n",
    "    points.append(point)\n",
    "\n",
    "    id += 1"
   ]
  },
  {
   "cell_type": "code",
   "execution_count": 30,
   "id": "698585c3",
   "metadata": {},
   "outputs": [
    {
     "name": "stderr",
     "output_type": "stream",
     "text": [
      "Fetching 5 files:   0%|          | 0/5 [00:00<?, ?it/s]c:\\Users\\admin_ABH\\anaconda3\\envs\\ai-engineering\\Lib\\site-packages\\huggingface_hub\\file_download.py:143: UserWarning: `huggingface_hub` cache-system uses symlinks by default to efficiently store duplicated files but your machine does not support them in C:\\Users\\admin_ABH\\AppData\\Local\\Temp\\2\\fastembed_cache\\models--Qdrant--bge-small-en. Caching files will still work but in a degraded version that might require more space on your disk. This warning can be disabled by setting the `HF_HUB_DISABLE_SYMLINKS_WARNING` environment variable. For more details, see https://huggingface.co/docs/huggingface_hub/how-to-cache#limitations.\n",
      "To support symlinks on Windows, you either need to activate Developer Mode or to run Python as an administrator. In order to activate developer mode, see this article: https://docs.microsoft.com/en-us/windows/apps/get-started/enable-your-device-for-development\n",
      "  warnings.warn(message)\n",
      "Fetching 5 files: 100%|██████████| 5/5 [00:01<00:00,  2.57it/s]\n"
     ]
    },
    {
     "data": {
      "text/plain": [
       "UpdateResult(operation_id=0, status=<UpdateStatus.COMPLETED: 'completed'>)"
      ]
     },
     "execution_count": 30,
     "metadata": {},
     "output_type": "execute_result"
    }
   ],
   "source": [
    "client.upsert(\n",
    "    collection_name=collection_name,\n",
    "    points=points\n",
    ")\n"
   ]
  },
  {
   "cell_type": "code",
   "execution_count": 31,
   "id": "7b5e3af6",
   "metadata": {},
   "outputs": [],
   "source": [
    "def search(query, limit=1):\n",
    "\n",
    "    results = client.query_points(\n",
    "        collection_name=collection_name,\n",
    "        query=models.Document( #embed the query text locally with \"jinaai/jina-embeddings-v2-small-en\"\n",
    "            text=query,\n",
    "            model=model_handle \n",
    "        ),\n",
    "        limit=limit, # top closest matches\n",
    "        with_payload=True #to get metadata in the results\n",
    "    )\n",
    "\n",
    "    return results"
   ]
  },
  {
   "cell_type": "code",
   "execution_count": 32,
   "id": "78c5e0bf",
   "metadata": {},
   "outputs": [
    {
     "data": {
      "text/plain": [
       "QueryResponse(points=[ScoredPoint(id=66, version=0, score=0.80676496, payload={'text': 'I’ve seen LinkedIn users list DataTalksClub as Experience with titles as:\\nMachine Learning Fellow\\nMachine Learning Student\\nMachine Learning Participant\\nMachine Learning Trainee\\nPlease note it is best advised that you do not list the experience as an official “job” or “internship” experience since DataTalksClub did not hire you, nor financially compensate you.\\nOther ways you can incorporate the experience in the following sections:\\nOrganizations\\nProjects\\nSkills\\nFeatured\\nOriginal posts\\nCertifications\\nCourses\\nBy Annaliese Bronz\\nInteresting question, I put the link of my project into my CV as showcase and make posts to show my progress.\\nBy Ani Mkrtumyan', 'section': 'Miscellaneous', 'course': 'machine-learning-zoomcamp'}, vector=None, shard_key=None, order_value=None)])"
      ]
     },
     "execution_count": 32,
     "metadata": {},
     "output_type": "execute_result"
    }
   ],
   "source": [
    "search(string)"
   ]
  },
  {
   "cell_type": "code",
   "execution_count": null,
   "id": "6685d168",
   "metadata": {},
   "outputs": [],
   "source": []
  }
 ],
 "metadata": {
  "kernelspec": {
   "display_name": "ai-engineering",
   "language": "python",
   "name": "python3"
  },
  "language_info": {
   "codemirror_mode": {
    "name": "ipython",
    "version": 3
   },
   "file_extension": ".py",
   "mimetype": "text/x-python",
   "name": "python",
   "nbconvert_exporter": "python",
   "pygments_lexer": "ipython3",
   "version": "3.13.5"
  }
 },
 "nbformat": 4,
 "nbformat_minor": 5
}
